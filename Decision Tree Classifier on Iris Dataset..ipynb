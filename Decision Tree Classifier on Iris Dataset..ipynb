{
 "cells": [
  {
   "cell_type": "markdown",
   "id": "da96d2ed",
   "metadata": {},
   "source": [
    "Name - Aryan Prashant Parab\n",
    "\n",
    "Task 3 - Prediction using Decision Tree Algorithm.\n",
    "\n",
    "Objective - Predicting the Iris dataset using a Decision Tree Algorithm."
   ]
  },
  {
   "cell_type": "markdown",
   "id": "765a02b7",
   "metadata": {},
   "source": [
    "# Importing Libraries."
   ]
  },
  {
   "cell_type": "code",
   "execution_count": 2,
   "id": "81cb0dd3",
   "metadata": {},
   "outputs": [],
   "source": [
    "import pandas as pd\n",
    "import numpy as np\n",
    "import matplotlib.pyplot as plt   # to draw graphs\n",
    "from sklearn.tree import DecisionTreeClassifier  # to build a classification tree\n",
    "from sklearn.tree import plot_tree   # to draw a classification tree\n",
    "from sklearn.model_selection import train_test_split  # to split data into training and testing sets.\n",
    "from sklearn.model_selection import cross_val_score # for cross validation\n",
    "from sklearn.metrics import confusion_matrix # to create a confusion matrix\n",
    "from sklearn.metrics import plot_confusion_matrix # to draw a confusion matrix."
   ]
  },
  {
   "cell_type": "markdown",
   "id": "679de269",
   "metadata": {},
   "source": [
    "# Dataset."
   ]
  },
  {
   "cell_type": "code",
   "execution_count": 3,
   "id": "a20b44c4",
   "metadata": {},
   "outputs": [],
   "source": [
    "df=pd.read_csv('Iris (1).csv')"
   ]
  },
  {
   "cell_type": "code",
   "execution_count": 4,
   "id": "401e54c1",
   "metadata": {},
   "outputs": [
    {
     "data": {
      "text/html": [
       "<div>\n",
       "<style scoped>\n",
       "    .dataframe tbody tr th:only-of-type {\n",
       "        vertical-align: middle;\n",
       "    }\n",
       "\n",
       "    .dataframe tbody tr th {\n",
       "        vertical-align: top;\n",
       "    }\n",
       "\n",
       "    .dataframe thead th {\n",
       "        text-align: right;\n",
       "    }\n",
       "</style>\n",
       "<table border=\"1\" class=\"dataframe\">\n",
       "  <thead>\n",
       "    <tr style=\"text-align: right;\">\n",
       "      <th></th>\n",
       "      <th>Id</th>\n",
       "      <th>SepalLengthCm</th>\n",
       "      <th>SepalWidthCm</th>\n",
       "      <th>PetalLengthCm</th>\n",
       "      <th>PetalWidthCm</th>\n",
       "      <th>Species</th>\n",
       "    </tr>\n",
       "  </thead>\n",
       "  <tbody>\n",
       "    <tr>\n",
       "      <th>0</th>\n",
       "      <td>1</td>\n",
       "      <td>5.1</td>\n",
       "      <td>3.5</td>\n",
       "      <td>1.4</td>\n",
       "      <td>0.2</td>\n",
       "      <td>Iris-setosa</td>\n",
       "    </tr>\n",
       "    <tr>\n",
       "      <th>1</th>\n",
       "      <td>2</td>\n",
       "      <td>4.9</td>\n",
       "      <td>3.0</td>\n",
       "      <td>1.4</td>\n",
       "      <td>0.2</td>\n",
       "      <td>Iris-setosa</td>\n",
       "    </tr>\n",
       "    <tr>\n",
       "      <th>2</th>\n",
       "      <td>3</td>\n",
       "      <td>4.7</td>\n",
       "      <td>3.2</td>\n",
       "      <td>1.3</td>\n",
       "      <td>0.2</td>\n",
       "      <td>Iris-setosa</td>\n",
       "    </tr>\n",
       "    <tr>\n",
       "      <th>3</th>\n",
       "      <td>4</td>\n",
       "      <td>4.6</td>\n",
       "      <td>3.1</td>\n",
       "      <td>1.5</td>\n",
       "      <td>0.2</td>\n",
       "      <td>Iris-setosa</td>\n",
       "    </tr>\n",
       "    <tr>\n",
       "      <th>4</th>\n",
       "      <td>5</td>\n",
       "      <td>5.0</td>\n",
       "      <td>3.6</td>\n",
       "      <td>1.4</td>\n",
       "      <td>0.2</td>\n",
       "      <td>Iris-setosa</td>\n",
       "    </tr>\n",
       "  </tbody>\n",
       "</table>\n",
       "</div>"
      ],
      "text/plain": [
       "   Id  SepalLengthCm  SepalWidthCm  PetalLengthCm  PetalWidthCm      Species\n",
       "0   1            5.1           3.5            1.4           0.2  Iris-setosa\n",
       "1   2            4.9           3.0            1.4           0.2  Iris-setosa\n",
       "2   3            4.7           3.2            1.3           0.2  Iris-setosa\n",
       "3   4            4.6           3.1            1.5           0.2  Iris-setosa\n",
       "4   5            5.0           3.6            1.4           0.2  Iris-setosa"
      ]
     },
     "execution_count": 4,
     "metadata": {},
     "output_type": "execute_result"
    }
   ],
   "source": [
    "df.head()"
   ]
  },
  {
   "cell_type": "markdown",
   "id": "cba52fca",
   "metadata": {},
   "source": [
    "# Shape."
   ]
  },
  {
   "cell_type": "code",
   "execution_count": 5,
   "id": "09be93bd",
   "metadata": {},
   "outputs": [
    {
     "name": "stdout",
     "output_type": "stream",
     "text": [
      "No.of_rows:150\n",
      "No.of_columns:6\n"
     ]
    }
   ],
   "source": [
    "print(\"No.of_rows:{}\".format(df.shape[0]))\n",
    "print(\"No.of_columns:{}\".format(df.shape[1]))"
   ]
  },
  {
   "cell_type": "markdown",
   "id": "4db50356",
   "metadata": {},
   "source": [
    "# Missing Values."
   ]
  },
  {
   "cell_type": "code",
   "execution_count": 6,
   "id": "16c56071",
   "metadata": {},
   "outputs": [
    {
     "name": "stdout",
     "output_type": "stream",
     "text": [
      "<class 'pandas.core.frame.DataFrame'>\n",
      "RangeIndex: 150 entries, 0 to 149\n",
      "Data columns (total 6 columns):\n",
      " #   Column         Non-Null Count  Dtype  \n",
      "---  ------         --------------  -----  \n",
      " 0   Id             150 non-null    int64  \n",
      " 1   SepalLengthCm  150 non-null    float64\n",
      " 2   SepalWidthCm   150 non-null    float64\n",
      " 3   PetalLengthCm  150 non-null    float64\n",
      " 4   PetalWidthCm   150 non-null    float64\n",
      " 5   Species        150 non-null    object \n",
      "dtypes: float64(4), int64(1), object(1)\n",
      "memory usage: 7.2+ KB\n"
     ]
    }
   ],
   "source": [
    "df.info()"
   ]
  },
  {
   "cell_type": "markdown",
   "id": "943f4934",
   "metadata": {},
   "source": [
    " # Describe."
   ]
  },
  {
   "cell_type": "code",
   "execution_count": 7,
   "id": "d0ec97e3",
   "metadata": {},
   "outputs": [
    {
     "data": {
      "text/html": [
       "<div>\n",
       "<style scoped>\n",
       "    .dataframe tbody tr th:only-of-type {\n",
       "        vertical-align: middle;\n",
       "    }\n",
       "\n",
       "    .dataframe tbody tr th {\n",
       "        vertical-align: top;\n",
       "    }\n",
       "\n",
       "    .dataframe thead th {\n",
       "        text-align: right;\n",
       "    }\n",
       "</style>\n",
       "<table border=\"1\" class=\"dataframe\">\n",
       "  <thead>\n",
       "    <tr style=\"text-align: right;\">\n",
       "      <th></th>\n",
       "      <th>Id</th>\n",
       "      <th>SepalLengthCm</th>\n",
       "      <th>SepalWidthCm</th>\n",
       "      <th>PetalLengthCm</th>\n",
       "      <th>PetalWidthCm</th>\n",
       "    </tr>\n",
       "  </thead>\n",
       "  <tbody>\n",
       "    <tr>\n",
       "      <th>count</th>\n",
       "      <td>150.000000</td>\n",
       "      <td>150.000000</td>\n",
       "      <td>150.000000</td>\n",
       "      <td>150.000000</td>\n",
       "      <td>150.000000</td>\n",
       "    </tr>\n",
       "    <tr>\n",
       "      <th>mean</th>\n",
       "      <td>75.500000</td>\n",
       "      <td>5.843333</td>\n",
       "      <td>3.054000</td>\n",
       "      <td>3.758667</td>\n",
       "      <td>1.198667</td>\n",
       "    </tr>\n",
       "    <tr>\n",
       "      <th>std</th>\n",
       "      <td>43.445368</td>\n",
       "      <td>0.828066</td>\n",
       "      <td>0.433594</td>\n",
       "      <td>1.764420</td>\n",
       "      <td>0.763161</td>\n",
       "    </tr>\n",
       "    <tr>\n",
       "      <th>min</th>\n",
       "      <td>1.000000</td>\n",
       "      <td>4.300000</td>\n",
       "      <td>2.000000</td>\n",
       "      <td>1.000000</td>\n",
       "      <td>0.100000</td>\n",
       "    </tr>\n",
       "    <tr>\n",
       "      <th>25%</th>\n",
       "      <td>38.250000</td>\n",
       "      <td>5.100000</td>\n",
       "      <td>2.800000</td>\n",
       "      <td>1.600000</td>\n",
       "      <td>0.300000</td>\n",
       "    </tr>\n",
       "    <tr>\n",
       "      <th>50%</th>\n",
       "      <td>75.500000</td>\n",
       "      <td>5.800000</td>\n",
       "      <td>3.000000</td>\n",
       "      <td>4.350000</td>\n",
       "      <td>1.300000</td>\n",
       "    </tr>\n",
       "    <tr>\n",
       "      <th>75%</th>\n",
       "      <td>112.750000</td>\n",
       "      <td>6.400000</td>\n",
       "      <td>3.300000</td>\n",
       "      <td>5.100000</td>\n",
       "      <td>1.800000</td>\n",
       "    </tr>\n",
       "    <tr>\n",
       "      <th>max</th>\n",
       "      <td>150.000000</td>\n",
       "      <td>7.900000</td>\n",
       "      <td>4.400000</td>\n",
       "      <td>6.900000</td>\n",
       "      <td>2.500000</td>\n",
       "    </tr>\n",
       "  </tbody>\n",
       "</table>\n",
       "</div>"
      ],
      "text/plain": [
       "               Id  SepalLengthCm  SepalWidthCm  PetalLengthCm  PetalWidthCm\n",
       "count  150.000000     150.000000    150.000000     150.000000    150.000000\n",
       "mean    75.500000       5.843333      3.054000       3.758667      1.198667\n",
       "std     43.445368       0.828066      0.433594       1.764420      0.763161\n",
       "min      1.000000       4.300000      2.000000       1.000000      0.100000\n",
       "25%     38.250000       5.100000      2.800000       1.600000      0.300000\n",
       "50%     75.500000       5.800000      3.000000       4.350000      1.300000\n",
       "75%    112.750000       6.400000      3.300000       5.100000      1.800000\n",
       "max    150.000000       7.900000      4.400000       6.900000      2.500000"
      ]
     },
     "execution_count": 7,
     "metadata": {},
     "output_type": "execute_result"
    }
   ],
   "source": [
    "df.describe()"
   ]
  },
  {
   "cell_type": "code",
   "execution_count": 8,
   "id": "af9cddcf",
   "metadata": {},
   "outputs": [
    {
     "data": {
      "text/plain": [
       "Iris-versicolor    50\n",
       "Iris-virginica     50\n",
       "Iris-setosa        50\n",
       "Name: Species, dtype: int64"
      ]
     },
     "execution_count": 8,
     "metadata": {},
     "output_type": "execute_result"
    }
   ],
   "source": [
    "# how is data segregated into several categories.\n",
    "df['Species'].value_counts()"
   ]
  },
  {
   "cell_type": "code",
   "execution_count": 9,
   "id": "b016afb9",
   "metadata": {},
   "outputs": [],
   "source": [
    "# Make a copy of the original dataset.\n",
    "dfc=df.copy()"
   ]
  },
  {
   "cell_type": "code",
   "execution_count": 10,
   "id": "5d19de5f",
   "metadata": {},
   "outputs": [],
   "source": [
    "df=df.drop(\"Id\",axis=1)"
   ]
  },
  {
   "cell_type": "code",
   "execution_count": 11,
   "id": "5b996d72",
   "metadata": {},
   "outputs": [
    {
     "data": {
      "text/html": [
       "<div>\n",
       "<style scoped>\n",
       "    .dataframe tbody tr th:only-of-type {\n",
       "        vertical-align: middle;\n",
       "    }\n",
       "\n",
       "    .dataframe tbody tr th {\n",
       "        vertical-align: top;\n",
       "    }\n",
       "\n",
       "    .dataframe thead th {\n",
       "        text-align: right;\n",
       "    }\n",
       "</style>\n",
       "<table border=\"1\" class=\"dataframe\">\n",
       "  <thead>\n",
       "    <tr style=\"text-align: right;\">\n",
       "      <th></th>\n",
       "      <th>SepalLengthCm</th>\n",
       "      <th>SepalWidthCm</th>\n",
       "      <th>PetalLengthCm</th>\n",
       "      <th>PetalWidthCm</th>\n",
       "      <th>Species</th>\n",
       "    </tr>\n",
       "  </thead>\n",
       "  <tbody>\n",
       "    <tr>\n",
       "      <th>0</th>\n",
       "      <td>5.1</td>\n",
       "      <td>3.5</td>\n",
       "      <td>1.4</td>\n",
       "      <td>0.2</td>\n",
       "      <td>Iris-setosa</td>\n",
       "    </tr>\n",
       "    <tr>\n",
       "      <th>1</th>\n",
       "      <td>4.9</td>\n",
       "      <td>3.0</td>\n",
       "      <td>1.4</td>\n",
       "      <td>0.2</td>\n",
       "      <td>Iris-setosa</td>\n",
       "    </tr>\n",
       "    <tr>\n",
       "      <th>2</th>\n",
       "      <td>4.7</td>\n",
       "      <td>3.2</td>\n",
       "      <td>1.3</td>\n",
       "      <td>0.2</td>\n",
       "      <td>Iris-setosa</td>\n",
       "    </tr>\n",
       "    <tr>\n",
       "      <th>3</th>\n",
       "      <td>4.6</td>\n",
       "      <td>3.1</td>\n",
       "      <td>1.5</td>\n",
       "      <td>0.2</td>\n",
       "      <td>Iris-setosa</td>\n",
       "    </tr>\n",
       "    <tr>\n",
       "      <th>4</th>\n",
       "      <td>5.0</td>\n",
       "      <td>3.6</td>\n",
       "      <td>1.4</td>\n",
       "      <td>0.2</td>\n",
       "      <td>Iris-setosa</td>\n",
       "    </tr>\n",
       "    <tr>\n",
       "      <th>...</th>\n",
       "      <td>...</td>\n",
       "      <td>...</td>\n",
       "      <td>...</td>\n",
       "      <td>...</td>\n",
       "      <td>...</td>\n",
       "    </tr>\n",
       "    <tr>\n",
       "      <th>145</th>\n",
       "      <td>6.7</td>\n",
       "      <td>3.0</td>\n",
       "      <td>5.2</td>\n",
       "      <td>2.3</td>\n",
       "      <td>Iris-virginica</td>\n",
       "    </tr>\n",
       "    <tr>\n",
       "      <th>146</th>\n",
       "      <td>6.3</td>\n",
       "      <td>2.5</td>\n",
       "      <td>5.0</td>\n",
       "      <td>1.9</td>\n",
       "      <td>Iris-virginica</td>\n",
       "    </tr>\n",
       "    <tr>\n",
       "      <th>147</th>\n",
       "      <td>6.5</td>\n",
       "      <td>3.0</td>\n",
       "      <td>5.2</td>\n",
       "      <td>2.0</td>\n",
       "      <td>Iris-virginica</td>\n",
       "    </tr>\n",
       "    <tr>\n",
       "      <th>148</th>\n",
       "      <td>6.2</td>\n",
       "      <td>3.4</td>\n",
       "      <td>5.4</td>\n",
       "      <td>2.3</td>\n",
       "      <td>Iris-virginica</td>\n",
       "    </tr>\n",
       "    <tr>\n",
       "      <th>149</th>\n",
       "      <td>5.9</td>\n",
       "      <td>3.0</td>\n",
       "      <td>5.1</td>\n",
       "      <td>1.8</td>\n",
       "      <td>Iris-virginica</td>\n",
       "    </tr>\n",
       "  </tbody>\n",
       "</table>\n",
       "<p>150 rows × 5 columns</p>\n",
       "</div>"
      ],
      "text/plain": [
       "     SepalLengthCm  SepalWidthCm  PetalLengthCm  PetalWidthCm         Species\n",
       "0              5.1           3.5            1.4           0.2     Iris-setosa\n",
       "1              4.9           3.0            1.4           0.2     Iris-setosa\n",
       "2              4.7           3.2            1.3           0.2     Iris-setosa\n",
       "3              4.6           3.1            1.5           0.2     Iris-setosa\n",
       "4              5.0           3.6            1.4           0.2     Iris-setosa\n",
       "..             ...           ...            ...           ...             ...\n",
       "145            6.7           3.0            5.2           2.3  Iris-virginica\n",
       "146            6.3           2.5            5.0           1.9  Iris-virginica\n",
       "147            6.5           3.0            5.2           2.0  Iris-virginica\n",
       "148            6.2           3.4            5.4           2.3  Iris-virginica\n",
       "149            5.9           3.0            5.1           1.8  Iris-virginica\n",
       "\n",
       "[150 rows x 5 columns]"
      ]
     },
     "execution_count": 11,
     "metadata": {},
     "output_type": "execute_result"
    }
   ],
   "source": [
    "df"
   ]
  },
  {
   "cell_type": "code",
   "execution_count": 12,
   "id": "f0a40712",
   "metadata": {},
   "outputs": [],
   "source": [
    "# one hot encoding for the species column.\n",
    "df2=pd.get_dummies(df,columns=['Species'])"
   ]
  },
  {
   "cell_type": "code",
   "execution_count": 13,
   "id": "9aae39d7",
   "metadata": {},
   "outputs": [
    {
     "data": {
      "text/plain": [
       "(150, 7)"
      ]
     },
     "execution_count": 13,
     "metadata": {},
     "output_type": "execute_result"
    }
   ],
   "source": [
    "df2.shape"
   ]
  },
  {
   "cell_type": "code",
   "execution_count": 14,
   "id": "eec28810",
   "metadata": {},
   "outputs": [],
   "source": [
    "x=df2.iloc[:,:-3].values\n",
    "y=df2.iloc[:,4:].values"
   ]
  },
  {
   "cell_type": "code",
   "execution_count": 15,
   "id": "d47ba84d",
   "metadata": {},
   "outputs": [],
   "source": [
    "#Splitting the dataset into the training set and testing set.\n",
    "\n",
    "train_x,test_x,train_y,test_y=train_test_split(x,y,random_state=96)"
   ]
  },
  {
   "cell_type": "code",
   "execution_count": 16,
   "id": "979ac7aa",
   "metadata": {},
   "outputs": [
    {
     "name": "stdout",
     "output_type": "stream",
     "text": [
      "(112, 4)\n",
      "[[5.2 3.5 1.5 0.2]\n",
      " [6.2 3.4 5.4 2.3]\n",
      " [5.1 3.5 1.4 0.3]\n",
      " [6.9 3.1 4.9 1.5]\n",
      " [5.4 3.9 1.3 0.4]\n",
      " [5.  2.3 3.3 1. ]\n",
      " [6.8 3.  5.5 2.1]\n",
      " [6.  3.  4.8 1.8]\n",
      " [6.  2.9 4.5 1.5]\n",
      " [7.7 3.  6.1 2.3]\n",
      " [5.  3.5 1.3 0.3]\n",
      " [5.6 2.7 4.2 1.3]\n",
      " [4.6 3.6 1.  0.2]\n",
      " [6.3 2.5 4.9 1.5]\n",
      " [4.9 3.1 1.5 0.1]\n",
      " [4.4 3.2 1.3 0.2]\n",
      " [7.7 2.8 6.7 2. ]\n",
      " [6.1 2.9 4.7 1.4]\n",
      " [6.9 3.1 5.4 2.1]\n",
      " [6.  2.7 5.1 1.6]\n",
      " [6.9 3.1 5.1 2.3]\n",
      " [5.7 2.5 5.  2. ]\n",
      " [5.8 2.7 3.9 1.2]\n",
      " [5.1 3.5 1.4 0.2]\n",
      " [4.8 3.  1.4 0.1]\n",
      " [6.4 3.2 4.5 1.5]\n",
      " [6.2 2.2 4.5 1.5]\n",
      " [5.8 2.7 5.1 1.9]\n",
      " [4.9 3.  1.4 0.2]\n",
      " [5.6 3.  4.1 1.3]\n",
      " [5.  2.  3.5 1. ]\n",
      " [5.1 3.8 1.5 0.3]\n",
      " [4.8 3.4 1.6 0.2]\n",
      " [6.  2.2 5.  1.5]\n",
      " [4.9 2.5 4.5 1.7]\n",
      " [5.  3.6 1.4 0.2]\n",
      " [7.7 2.6 6.9 2.3]\n",
      " [5.7 2.8 4.5 1.3]\n",
      " [6.7 3.  5.  1.7]\n",
      " [5.7 2.8 4.1 1.3]\n",
      " [5.1 3.8 1.9 0.4]\n",
      " [6.5 3.  5.8 2.2]\n",
      " [6.7 3.  5.2 2.3]\n",
      " [5.1 3.4 1.5 0.2]\n",
      " [6.3 2.3 4.4 1.3]\n",
      " [6.2 2.8 4.8 1.8]\n",
      " [6.5 3.2 5.1 2. ]\n",
      " [4.8 3.  1.4 0.3]\n",
      " [4.9 3.1 1.5 0.1]\n",
      " [5.  3.  1.6 0.2]\n",
      " [6.6 3.  4.4 1.4]\n",
      " [4.7 3.2 1.6 0.2]\n",
      " [5.7 2.9 4.2 1.3]\n",
      " [4.4 3.  1.3 0.2]\n",
      " [4.9 3.1 1.5 0.1]\n",
      " [5.  3.4 1.5 0.2]\n",
      " [5.1 3.8 1.6 0.2]\n",
      " [5.  3.2 1.2 0.2]\n",
      " [6.3 3.3 4.7 1.6]\n",
      " [4.9 2.4 3.3 1. ]\n",
      " [7.  3.2 4.7 1.4]\n",
      " [6.3 3.4 5.6 2.4]\n",
      " [7.2 3.  5.8 1.6]\n",
      " [5.7 3.  4.2 1.2]\n",
      " [6.3 3.3 6.  2.5]\n",
      " [5.8 2.7 4.1 1. ]\n",
      " [5.6 2.5 3.9 1.1]\n",
      " [5.5 2.5 4.  1.3]\n",
      " [5.7 3.8 1.7 0.3]\n",
      " [5.9 3.  5.1 1.8]\n",
      " [4.6 3.4 1.4 0.3]\n",
      " [6.3 2.7 4.9 1.8]\n",
      " [6.  3.4 4.5 1.6]\n",
      " [5.6 2.8 4.9 2. ]\n",
      " [5.1 3.3 1.7 0.5]\n",
      " [7.2 3.2 6.  1.8]\n",
      " [6.1 3.  4.9 1.8]\n",
      " [5.4 3.7 1.5 0.2]\n",
      " [5.8 4.  1.2 0.2]\n",
      " [6.3 2.8 5.1 1.5]\n",
      " [6.7 3.1 4.4 1.4]\n",
      " [7.6 3.  6.6 2.1]\n",
      " [6.9 3.2 5.7 2.3]\n",
      " [4.4 2.9 1.4 0.2]\n",
      " [6.8 2.8 4.8 1.4]\n",
      " [5.1 3.7 1.5 0.4]\n",
      " [6.8 3.2 5.9 2.3]\n",
      " [5.4 3.4 1.7 0.2]\n",
      " [4.8 3.4 1.9 0.2]\n",
      " [6.6 2.9 4.6 1.3]\n",
      " [6.5 3.  5.2 2. ]\n",
      " [5.7 2.6 3.5 1. ]\n",
      " [6.3 2.5 5.  1.9]\n",
      " [6.3 2.9 5.6 1.8]\n",
      " [7.2 3.6 6.1 2.5]\n",
      " [7.9 3.8 6.4 2. ]\n",
      " [5.8 2.8 5.1 2.4]\n",
      " [5.5 2.4 3.7 1. ]\n",
      " [6.4 3.1 5.5 1.8]\n",
      " [6.7 3.3 5.7 2.1]\n",
      " [7.4 2.8 6.1 1.9]\n",
      " [6.  2.2 4.  1. ]\n",
      " [6.1 2.8 4.7 1.2]\n",
      " [6.4 2.7 5.3 1.9]\n",
      " [6.1 2.6 5.6 1.4]\n",
      " [5.9 3.  4.2 1.5]\n",
      " [6.5 2.8 4.6 1.5]\n",
      " [5.6 3.  4.5 1.5]\n",
      " [6.2 2.9 4.3 1.3]\n",
      " [6.5 3.  5.5 1.8]\n",
      " [6.7 2.5 5.8 1.8]\n",
      " [5.4 3.  4.5 1.5]]\n"
     ]
    }
   ],
   "source": [
    "print(train_x.shape)\n",
    "print(train_x)"
   ]
  },
  {
   "cell_type": "code",
   "execution_count": 17,
   "id": "37bfdecb",
   "metadata": {},
   "outputs": [
    {
     "name": "stdout",
     "output_type": "stream",
     "text": [
      "(112, 3)\n",
      "[[1 0 0]\n",
      " [0 0 1]\n",
      " [1 0 0]\n",
      " [0 1 0]\n",
      " [1 0 0]\n",
      " [0 1 0]\n",
      " [0 0 1]\n",
      " [0 0 1]\n",
      " [0 1 0]\n",
      " [0 0 1]\n",
      " [1 0 0]\n",
      " [0 1 0]\n",
      " [1 0 0]\n",
      " [0 1 0]\n",
      " [1 0 0]\n",
      " [1 0 0]\n",
      " [0 0 1]\n",
      " [0 1 0]\n",
      " [0 0 1]\n",
      " [0 1 0]\n",
      " [0 0 1]\n",
      " [0 0 1]\n",
      " [0 1 0]\n",
      " [1 0 0]\n",
      " [1 0 0]\n",
      " [0 1 0]\n",
      " [0 1 0]\n",
      " [0 0 1]\n",
      " [1 0 0]\n",
      " [0 1 0]\n",
      " [0 1 0]\n",
      " [1 0 0]\n",
      " [1 0 0]\n",
      " [0 0 1]\n",
      " [0 0 1]\n",
      " [1 0 0]\n",
      " [0 0 1]\n",
      " [0 1 0]\n",
      " [0 1 0]\n",
      " [0 1 0]\n",
      " [1 0 0]\n",
      " [0 0 1]\n",
      " [0 0 1]\n",
      " [1 0 0]\n",
      " [0 1 0]\n",
      " [0 0 1]\n",
      " [0 0 1]\n",
      " [1 0 0]\n",
      " [1 0 0]\n",
      " [1 0 0]\n",
      " [0 1 0]\n",
      " [1 0 0]\n",
      " [0 1 0]\n",
      " [1 0 0]\n",
      " [1 0 0]\n",
      " [1 0 0]\n",
      " [1 0 0]\n",
      " [1 0 0]\n",
      " [0 1 0]\n",
      " [0 1 0]\n",
      " [0 1 0]\n",
      " [0 0 1]\n",
      " [0 0 1]\n",
      " [0 1 0]\n",
      " [0 0 1]\n",
      " [0 1 0]\n",
      " [0 1 0]\n",
      " [0 1 0]\n",
      " [1 0 0]\n",
      " [0 0 1]\n",
      " [1 0 0]\n",
      " [0 0 1]\n",
      " [0 1 0]\n",
      " [0 0 1]\n",
      " [1 0 0]\n",
      " [0 0 1]\n",
      " [0 0 1]\n",
      " [1 0 0]\n",
      " [1 0 0]\n",
      " [0 0 1]\n",
      " [0 1 0]\n",
      " [0 0 1]\n",
      " [0 0 1]\n",
      " [1 0 0]\n",
      " [0 1 0]\n",
      " [1 0 0]\n",
      " [0 0 1]\n",
      " [1 0 0]\n",
      " [1 0 0]\n",
      " [0 1 0]\n",
      " [0 0 1]\n",
      " [0 1 0]\n",
      " [0 0 1]\n",
      " [0 0 1]\n",
      " [0 0 1]\n",
      " [0 0 1]\n",
      " [0 0 1]\n",
      " [0 1 0]\n",
      " [0 0 1]\n",
      " [0 0 1]\n",
      " [0 0 1]\n",
      " [0 1 0]\n",
      " [0 1 0]\n",
      " [0 0 1]\n",
      " [0 0 1]\n",
      " [0 1 0]\n",
      " [0 1 0]\n",
      " [0 1 0]\n",
      " [0 1 0]\n",
      " [0 0 1]\n",
      " [0 0 1]\n",
      " [0 1 0]]\n"
     ]
    }
   ],
   "source": [
    "print(train_y.shape)\n",
    "print(train_y)"
   ]
  },
  {
   "cell_type": "code",
   "execution_count": 18,
   "id": "77e4168b",
   "metadata": {},
   "outputs": [
    {
     "name": "stdout",
     "output_type": "stream",
     "text": [
      "(38, 4)\n",
      "[[4.8 3.1 1.6 0.2]\n",
      " [4.6 3.2 1.4 0.2]\n",
      " [5.  3.5 1.6 0.6]\n",
      " [5.5 2.6 4.4 1.2]\n",
      " [6.4 3.2 5.3 2.3]\n",
      " [5.  3.3 1.4 0.2]\n",
      " [5.4 3.9 1.7 0.4]\n",
      " [5.9 3.2 4.8 1.8]\n",
      " [5.5 3.5 1.3 0.2]\n",
      " [6.7 3.1 4.7 1.5]\n",
      " [5.2 2.7 3.9 1.4]\n",
      " [5.3 3.7 1.5 0.2]\n",
      " [5.7 4.4 1.5 0.4]\n",
      " [6.7 3.3 5.7 2.5]\n",
      " [5.5 2.3 4.  1.3]\n",
      " [5.4 3.4 1.5 0.4]\n",
      " [4.7 3.2 1.3 0.2]\n",
      " [7.1 3.  5.9 2.1]\n",
      " [5.2 3.4 1.4 0.2]\n",
      " [5.  3.4 1.6 0.4]\n",
      " [6.1 2.8 4.  1.3]\n",
      " [7.7 3.8 6.7 2.2]\n",
      " [5.8 2.7 5.1 1.9]\n",
      " [6.1 3.  4.6 1.4]\n",
      " [5.5 2.4 3.8 1.1]\n",
      " [4.5 2.3 1.3 0.3]\n",
      " [6.7 3.1 5.6 2.4]\n",
      " [6.4 2.8 5.6 2.1]\n",
      " [5.1 2.5 3.  1.1]\n",
      " [4.6 3.1 1.5 0.2]\n",
      " [5.5 4.2 1.4 0.2]\n",
      " [5.2 4.1 1.5 0.1]\n",
      " [7.3 2.9 6.3 1.8]\n",
      " [6.4 2.9 4.3 1.3]\n",
      " [5.8 2.6 4.  1.2]\n",
      " [5.6 2.9 3.6 1.3]\n",
      " [4.3 3.  1.1 0.1]\n",
      " [6.4 2.8 5.6 2.2]]\n"
     ]
    }
   ],
   "source": [
    "print(test_x.shape)\n",
    "print(test_x)"
   ]
  },
  {
   "cell_type": "code",
   "execution_count": 19,
   "id": "8da997d9",
   "metadata": {},
   "outputs": [
    {
     "name": "stdout",
     "output_type": "stream",
     "text": [
      "(38, 3)\n",
      "[[1 0 0]\n",
      " [1 0 0]\n",
      " [1 0 0]\n",
      " [0 1 0]\n",
      " [0 0 1]\n",
      " [1 0 0]\n",
      " [1 0 0]\n",
      " [0 1 0]\n",
      " [1 0 0]\n",
      " [0 1 0]\n",
      " [0 1 0]\n",
      " [1 0 0]\n",
      " [1 0 0]\n",
      " [0 0 1]\n",
      " [0 1 0]\n",
      " [1 0 0]\n",
      " [1 0 0]\n",
      " [0 0 1]\n",
      " [1 0 0]\n",
      " [1 0 0]\n",
      " [0 1 0]\n",
      " [0 0 1]\n",
      " [0 0 1]\n",
      " [0 1 0]\n",
      " [0 1 0]\n",
      " [1 0 0]\n",
      " [0 0 1]\n",
      " [0 0 1]\n",
      " [0 1 0]\n",
      " [1 0 0]\n",
      " [1 0 0]\n",
      " [1 0 0]\n",
      " [0 0 1]\n",
      " [0 1 0]\n",
      " [0 1 0]\n",
      " [0 1 0]\n",
      " [1 0 0]\n",
      " [0 0 1]]\n"
     ]
    }
   ],
   "source": [
    "print(test_y.shape)\n",
    "print(test_y)"
   ]
  },
  {
   "cell_type": "markdown",
   "id": "be4096bf",
   "metadata": {},
   "source": [
    "# Feature Scaling"
   ]
  },
  {
   "cell_type": "code",
   "execution_count": 20,
   "id": "6b3a1401",
   "metadata": {},
   "outputs": [],
   "source": [
    "from sklearn.preprocessing import StandardScaler\n",
    "sc = StandardScaler()\n",
    "train_x = sc.fit_transform(train_x)\n",
    "test_x = sc.transform(test_x)"
   ]
  },
  {
   "cell_type": "markdown",
   "id": "d71cc921",
   "metadata": {},
   "source": [
    "# Training the Decision tree classification model on Training set."
   ]
  },
  {
   "cell_type": "code",
   "execution_count": 21,
   "id": "42cb0584",
   "metadata": {},
   "outputs": [
    {
     "data": {
      "text/plain": [
       "DecisionTreeClassifier(random_state=96)"
      ]
     },
     "execution_count": 21,
     "metadata": {},
     "output_type": "execute_result"
    }
   ],
   "source": [
    "classifier=DecisionTreeClassifier(random_state=96)\n",
    "classifier.fit(train_x,train_y)"
   ]
  },
  {
   "cell_type": "code",
   "execution_count": 22,
   "id": "b6d6baa8",
   "metadata": {},
   "outputs": [
    {
     "data": {
      "text/plain": [
       "[Text(372.0, 747.4499999999999, 'X[3] <= -0.671\\ngini = 0.443\\nsamples = 112\\nvalue = [[79, 33]\\n[74, 38]\\n[71, 41]]'),\n",
       " Text(279.0, 611.55, 'gini = 0.0\\nsamples = 33\\nvalue = [[0, 33]\\n[33, 0]\\n[33, 0]]'),\n",
       " Text(465.0, 611.55, 'X[3] <= 0.673\\ngini = 0.333\\nsamples = 79\\nvalue = [[79, 0]\\n[41, 38]\\n[38, 41]]'),\n",
       " Text(372.0, 475.65, 'X[2] <= 0.606\\ngini = 0.137\\nsamples = 43\\nvalue = [[43, 0]\\n[5, 38]\\n[38, 5]]'),\n",
       " Text(186.0, 339.74999999999994, 'X[3] <= 0.539\\ngini = 0.035\\nsamples = 37\\nvalue = [[37, 0]\\n[1, 36]\\n[36, 1]]'),\n",
       " Text(93.0, 203.8499999999999, 'gini = 0.0\\nsamples = 36\\nvalue = [[36, 0]\\n[0, 36]\\n[36, 0]]'),\n",
       " Text(279.0, 203.8499999999999, 'gini = 0.0\\nsamples = 1\\nvalue = [[1, 0]\\n[1, 0]\\n[0, 1]]'),\n",
       " Text(558.0, 339.74999999999994, 'X[3] <= 0.405\\ngini = 0.296\\nsamples = 6\\nvalue = [[6, 0]\\n[4, 2]\\n[2, 4]]'),\n",
       " Text(465.0, 203.8499999999999, 'gini = 0.0\\nsamples = 3\\nvalue = [[3, 0]\\n[3, 0]\\n[0, 3]]'),\n",
       " Text(651.0, 203.8499999999999, 'X[2] <= 0.898\\ngini = 0.296\\nsamples = 3\\nvalue = [[3, 0]\\n[1, 2]\\n[2, 1]]'),\n",
       " Text(558.0, 67.94999999999993, 'gini = 0.0\\nsamples = 2\\nvalue = [[2, 0]\\n[0, 2]\\n[2, 0]]'),\n",
       " Text(744.0, 67.94999999999993, 'gini = 0.0\\nsamples = 1\\nvalue = [[1, 0]\\n[1, 0]\\n[0, 1]]'),\n",
       " Text(558.0, 475.65, 'gini = 0.0\\nsamples = 36\\nvalue = [[36, 0]\\n[36, 0]\\n[0, 36]]')]"
      ]
     },
     "execution_count": 22,
     "metadata": {},
     "output_type": "execute_result"
    },
    {
     "data": {
      "image/png": "[encoded data removed]",
      "text/plain": [
       "<Figure size 1080x1080 with 1 Axes>"
      ]
     },
     "metadata": {
      "needs_background": "light"
     },
     "output_type": "display_data"
    }
   ],
   "source": [
    "plt.figure(figsize=[15,15])\n",
    "plot_tree(classifier,\n",
    "         filled=True,\n",
    "         rounded=True)"
   ]
  },
  {
   "cell_type": "markdown",
   "id": "3becb5f0",
   "metadata": {},
   "source": [
    "# Predicting the Test set results."
   ]
  },
  {
   "cell_type": "code",
   "execution_count": 23,
   "id": "58014293",
   "metadata": {},
   "outputs": [],
   "source": [
    "y_pred=classifier.predict(test_x)"
   ]
  },
  {
   "cell_type": "code",
   "execution_count": 24,
   "id": "a13dfecc",
   "metadata": {},
   "outputs": [
    {
     "data": {
      "text/plain": [
       "array([[1, 0, 0],\n",
       "       [1, 0, 0],\n",
       "       [1, 0, 0],\n",
       "       [0, 1, 0],\n",
       "       [0, 0, 1],\n",
       "       [1, 0, 0],\n",
       "       [1, 0, 0],\n",
       "       [0, 0, 1],\n",
       "       [1, 0, 0],\n",
       "       [0, 1, 0],\n",
       "       [0, 1, 0],\n",
       "       [1, 0, 0],\n",
       "       [1, 0, 0],\n",
       "       [0, 0, 1],\n",
       "       [0, 1, 0],\n",
       "       [1, 0, 0],\n",
       "       [1, 0, 0],\n",
       "       [0, 0, 1],\n",
       "       [1, 0, 0],\n",
       "       [1, 0, 0],\n",
       "       [0, 1, 0],\n",
       "       [0, 0, 1],\n",
       "       [0, 0, 1],\n",
       "       [0, 1, 0],\n",
       "       [0, 1, 0],\n",
       "       [1, 0, 0],\n",
       "       [0, 0, 1],\n",
       "       [0, 0, 1],\n",
       "       [0, 1, 0],\n",
       "       [1, 0, 0],\n",
       "       [1, 0, 0],\n",
       "       [1, 0, 0],\n",
       "       [0, 0, 1],\n",
       "       [0, 1, 0],\n",
       "       [0, 1, 0],\n",
       "       [0, 1, 0],\n",
       "       [1, 0, 0],\n",
       "       [0, 0, 1]], dtype=uint8)"
      ]
     },
     "execution_count": 24,
     "metadata": {},
     "output_type": "execute_result"
    }
   ],
   "source": [
    "y_pred"
   ]
  },
  {
   "cell_type": "markdown",
   "id": "170f3d71",
   "metadata": {},
   "source": [
    "# Predicting a New Result."
   ]
  },
  {
   "cell_type": "code",
   "execution_count": 25,
   "id": "a9008691",
   "metadata": {},
   "outputs": [
    {
     "name": "stdout",
     "output_type": "stream",
     "text": [
      "[[1 0 0]]\n"
     ]
    }
   ],
   "source": [
    "print(classifier.predict(sc.transform([[5.0,3.3,1.4,0.2]])))"
   ]
  }
 ],
 "metadata": {
  "kernelspec": {
   "display_name": "Python 3",
   "language": "python",
   "name": "python3"
  },
  "language_info": {
   "codemirror_mode": {
    "name": "ipython",
    "version": 3
   },
   "file_extension": ".py",
   "mimetype": "text/x-python",
   "name": "python",
   "nbconvert_exporter": "python",
   "pygments_lexer": "ipython3",
   "version": "3.8.8"
  }
 },
 "nbformat": 4,
 "nbformat_minor": 5
}
